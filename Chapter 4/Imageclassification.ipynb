{
 "cells": [
  {
   "cell_type": "code",
   "execution_count": 1,
   "metadata": {
    "colab": {},
    "colab_type": "code",
    "id": "dzLKpmZICaWN"
   },
   "outputs": [
    {
     "name": "stdout",
     "output_type": "stream",
     "text": [
      "2.1.0\n"
     ]
    }
   ],
   "source": [
    "# TensorFlow and tf.keras\n",
    "import tensorflow as tf\n",
    "from tensorflow import keras\n",
    "\n",
    "# Helper libraries\n",
    "import numpy as np\n",
    "import matplotlib.pyplot as plt\n",
    "\n",
    "print(tf.__version__)"
   ]
  },
  {
   "cell_type": "markdown",
   "metadata": {
    "colab_type": "text",
    "id": "yR0EdgrLCaWR"
   },
   "source": [
    "## Import the Fashion MNIST dataset"
   ]
  },
  {
   "cell_type": "code",
   "execution_count": 2,
   "metadata": {
    "colab": {},
    "colab_type": "code",
    "id": "7MqDQO0KCaWS"
   },
   "outputs": [],
   "source": [
    "fashion_df = keras.datasets.fashion_mnist\n",
    "\n",
    "(x_train, y_train), (x_test, y_test) = fashion_df.load_data()"
   ]
  },
  {
   "cell_type": "code",
   "execution_count": 4,
   "metadata": {
    "colab": {},
    "colab_type": "code",
    "id": "IjnLH5S2CaWx"
   },
   "outputs": [],
   "source": [
    "apparel_groups = ['T-shirt/top', 'Trouser', 'Pullover', 'Dress', 'Coat',\n",
    "               'Sandal', 'Shirt', 'Sneaker', 'Bag', 'Ankle boot']"
   ]
  },
  {
   "cell_type": "markdown",
   "metadata": {
    "colab_type": "text",
    "id": "Brm0b_KACaWX"
   },
   "source": [
    "## Explore the data\n",
    "\n",
    "Let's explore the format of the dataset before training the model. The following shows there are 60,000 images in the training set, with each image represented as 28 x 28 pixels:"
   ]
  },
  {
   "cell_type": "code",
   "execution_count": 5,
   "metadata": {
    "colab": {},
    "colab_type": "code",
    "id": "zW5k_xz1CaWX"
   },
   "outputs": [
    {
     "data": {
      "text/plain": [
       "(60000, 28, 28)"
      ]
     },
     "execution_count": 5,
     "metadata": {},
     "output_type": "execute_result"
    }
   ],
   "source": [
    "x_train.shape"
   ]
  },
  {
   "cell_type": "code",
   "execution_count": 6,
   "metadata": {
    "colab": {},
    "colab_type": "code",
    "id": "TRFYHB2mCaWb"
   },
   "outputs": [
    {
     "data": {
      "text/plain": [
       "60000"
      ]
     },
     "execution_count": 6,
     "metadata": {},
     "output_type": "execute_result"
    }
   ],
   "source": [
    "len(y_train)"
   ]
  },
  {
   "cell_type": "markdown",
   "metadata": {
    "colab_type": "text",
    "id": "YSlYxFuRCaWk"
   },
   "source": [
    "Each label is an integer between 0 and 9:"
   ]
  },
  {
   "cell_type": "code",
   "execution_count": 7,
   "metadata": {
    "colab": {},
    "colab_type": "code",
    "id": "XKnCTHz4CaWg"
   },
   "outputs": [
    {
     "data": {
      "text/plain": [
       "array([9, 0, 0, ..., 3, 0, 5], dtype=uint8)"
      ]
     },
     "execution_count": 7,
     "metadata": {},
     "output_type": "execute_result"
    }
   ],
   "source": [
    "y_train"
   ]
  },
  {
   "cell_type": "markdown",
   "metadata": {
    "colab_type": "text",
    "id": "TMPI88iZpO2T"
   },
   "source": [
    "There are 10,000 images in the test set. Again, each image is represented as 28 x 28 pixels:"
   ]
  },
  {
   "cell_type": "code",
   "execution_count": 8,
   "metadata": {
    "colab": {},
    "colab_type": "code",
    "id": "2KFnYlcwCaWl"
   },
   "outputs": [
    {
     "data": {
      "text/plain": [
       "(60000, 28, 28)"
      ]
     },
     "execution_count": 8,
     "metadata": {},
     "output_type": "execute_result"
    }
   ],
   "source": [
    "x_train.shape"
   ]
  },
  {
   "cell_type": "markdown",
   "metadata": {
    "colab_type": "text",
    "id": "rd0A0Iu0CaWq"
   },
   "source": [
    "And the test set contains 10,000 images labels:"
   ]
  },
  {
   "cell_type": "code",
   "execution_count": 9,
   "metadata": {
    "colab": {},
    "colab_type": "code",
    "id": "iJmPr5-ACaWn"
   },
   "outputs": [
    {
     "data": {
      "text/plain": [
       "60000"
      ]
     },
     "execution_count": 9,
     "metadata": {},
     "output_type": "execute_result"
    }
   ],
   "source": [
    "len(y_train)"
   ]
  },
  {
   "cell_type": "markdown",
   "metadata": {
    "colab_type": "text",
    "id": "ES6uQoLKCaWr"
   },
   "source": [
    "## Preprocess the data\n",
    "\n",
    "The data must be preprocessed before training the network. If you inspect the first image in the training set, you will see that the pixel values fall in the range of 0 to 255:"
   ]
  },
  {
   "cell_type": "code",
   "execution_count": 10,
   "metadata": {
    "colab": {},
    "colab_type": "code",
    "id": "m4VEw8Ud9Quh"
   },
   "outputs": [
    {
     "data": {
      "image/png": "[encoded data removed]",
      "text/plain": [
       "<Figure size 432x288 with 1 Axes>"
      ]
     },
     "metadata": {
      "needs_background": "light"
     },
     "output_type": "display_data"
    }
   ],
   "source": [
    "plt.figure()\n",
    "plt.imshow(x_train[1])\n",
    "plt.show()"
   ]
  },
  {
   "cell_type": "markdown",
   "metadata": {
    "colab_type": "text",
    "id": "Wz7l27Lz9S1P"
   },
   "source": [
    "Scale these values to a range of 0 to 1 before feeding them to the neural network model. To do so, divide the values by 255. It's important that the *training set* and the *testing set* be preprocessed in the same way:"
   ]
  },
  {
   "cell_type": "code",
   "execution_count": 12,
   "metadata": {
    "colab": {},
    "colab_type": "code",
    "id": "bW5WzIPlCaWv"
   },
   "outputs": [],
   "source": [
    "x_train = x_train / 255.0\n",
    "\n",
    "x_test = x_test / 255.0"
   ]
  },
  {
   "cell_type": "markdown",
   "metadata": {
    "colab_type": "text",
    "id": "Ee638AlnCaWz"
   },
   "source": [
    "To verify that the data is in the correct format and that you're ready to build and train the network, let's display the first 25 images from the *training set* and display the class name below each image."
   ]
  },
  {
   "cell_type": "code",
   "execution_count": 13,
   "metadata": {
    "colab": {},
    "colab_type": "code",
    "id": "oZTImqg_CaW1"
   },
   "outputs": [
    {
     "data": {
      "image/png": "[encoded data removed]",
      "text/plain": [
       "<Figure size 1800x1800 with 10 Axes>"
      ]
     },
     "metadata": {},
     "output_type": "display_data"
    }
   ],
   "source": [
    "plt.figure(figsize=(25,25))\n",
    "for i in range(10):\n",
    "    plt.subplot(10,10,i+1)\n",
    "    plt.xticks([])\n",
    "    plt.yticks([])\n",
    "    plt.grid(False)\n",
    "    plt.imshow(x_train[i], cmap=plt.cm.binary)\n",
    "    plt.xlabel(apparel_groups[y_train[i]])\n",
    "plt.show()"
   ]
  },
  {
   "cell_type": "markdown",
   "metadata": {
    "colab_type": "text",
    "id": "59veuiEZCaW4"
   },
   "source": [
    "## Build the model\n",
    "\n",
    "Building the neural network requires configuring the layers of the model, then compiling the model."
   ]
  },
  {
   "cell_type": "markdown",
   "metadata": {
    "colab_type": "text",
    "id": "Gxg1XGm0eOBy"
   },
   "source": [
    "### Set up the layers\n",
    "\n",
    "The basic building block of a neural network is the *layer*. Layers extract representations from the data fed into them. Hopefully, these representations are meaningful for the problem at hand.\n",
    "\n",
    "Most of deep learning consists of chaining together simple layers. Most layers, such as `tf.keras.layers.Dense`, have parameters that are learned during training."
   ]
  },
  {
   "cell_type": "code",
   "execution_count": 14,
   "metadata": {
    "colab": {},
    "colab_type": "code",
    "id": "9ODch-OFCaW4"
   },
   "outputs": [],
   "source": [
    "fashion_model = keras.Sequential([\n",
    "    keras.layers.Flatten(input_shape=(28, 28)),\n",
    "    keras.layers.Dense(256, activation='relu'),\n",
    "    keras.layers.Dense(20)\n",
    "])"
   ]
  },
  {
   "cell_type": "markdown",
   "metadata": {
    "colab_type": "text",
    "id": "gut8A_7rCaW6"
   },
   "source": [
    "The first layer in this network, `tf.keras.layers.Flatten`, transforms the format of the images from a two-dimensional array (of 28 by 28 pixels) to a one-dimensional array (of 28 * 28 = 784 pixels). Think of this layer as unstacking rows of pixels in the image and lining them up. This layer has no parameters to learn; it only reformats the data.\n",
    "\n",
    "After the pixels are flattened, the network consists of a sequence of two `tf.keras.layers.Dense` layers. These are densely connected, or fully connected, neural layers. The first `Dense` layer has 128 nodes (or neurons). The second (and last) layer returns a logits array with length of 10. Each node contains a score that indicates the current image belongs to one of the 10 classes.\n",
    "\n",
    "### Compile the model\n",
    "\n",
    "Before the model is ready for training, it needs a few more settings. These are added during the model's *compile* step:\n",
    "\n",
    "* *Loss function* —This measures how accurate the model is during training. You want to minimize this function to \"steer\" the model in the right direction.\n",
    "* *Optimizer* —This is how the model is updated based on the data it sees and its loss function.\n",
    "* *Metrics* —Used to monitor the training and testing steps. The following example uses *accuracy*, the fraction of the images that are correctly classified."
   ]
  },
  {
   "cell_type": "code",
   "execution_count": 15,
   "metadata": {
    "colab": {},
    "colab_type": "code",
    "id": "Lhan11blCaW7"
   },
   "outputs": [],
   "source": [
    "fashion_model.compile(optimizer='adam',\n",
    "              loss=tf.keras.losses.SparseCategoricalCrossentropy(from_logits=True),\n",
    "              metrics=['accuracy'])"
   ]
  },
  {
   "cell_type": "markdown",
   "metadata": {
    "colab_type": "text",
    "id": "qKF6uW-BCaW-"
   },
   "source": [
    "## Train the model\n",
    "\n",
    "Training the neural network model requires the following steps:\n",
    "\n",
    "1. Feed the training data to the model. In this example, the training data is in the `train_images` and `train_labels` arrays.\n",
    "2. The model learns to associate images and labels.\n",
    "3. You ask the model to make predictions about a test set—in this example, the `test_images` array.\n",
    "4. Verify that the predictions match the labels from the `test_labels` array.\n"
   ]
  },
  {
   "cell_type": "markdown",
   "metadata": {
    "colab_type": "text",
    "id": "Z4P4zIV7E28Z"
   },
   "source": [
    "### Feed the model\n",
    "\n",
    "To start training,  call the `model.fit` method—so called because it \"fits\" the model to the training data:"
   ]
  },
  {
   "cell_type": "code",
   "execution_count": 16,
   "metadata": {
    "colab": {},
    "colab_type": "code",
    "id": "xvwvpA64CaW_"
   },
   "outputs": [
    {
     "name": "stdout",
     "output_type": "stream",
     "text": [
      "Train on 60000 samples, validate on 10000 samples\n",
      "Epoch 1/50\n",
      "60000/60000 [==============================] - 9s 147us/sample - loss: 0.4768 - accuracy: 0.8288 - val_loss: 0.4368 - val_accuracy: 0.8440\n",
      "Epoch 2/50\n",
      "60000/60000 [==============================] - 9s 142us/sample - loss: 0.3641 - accuracy: 0.8680 - val_loss: 0.3935 - val_accuracy: 0.8601\n",
      "Epoch 3/50\n",
      "60000/60000 [==============================] - 9s 149us/sample - loss: 0.3280 - accuracy: 0.8797 - val_loss: 0.3853 - val_accuracy: 0.8571\n",
      "Epoch 4/50\n",
      "60000/60000 [==============================] - 12s 198us/sample - loss: 0.3056 - accuracy: 0.8873 - val_loss: 0.3724 - val_accuracy: 0.8687\n",
      "Epoch 5/50\n",
      "60000/60000 [==============================] - 10s 168us/sample - loss: 0.2886 - accuracy: 0.8922 - val_loss: 0.3866 - val_accuracy: 0.8672\n",
      "Epoch 6/50\n",
      "60000/60000 [==============================] - 9s 148us/sample - loss: 0.2754 - accuracy: 0.8979 - val_loss: 0.3792 - val_accuracy: 0.8738\n",
      "Epoch 7/50\n",
      "60000/60000 [==============================] - 9s 154us/sample - loss: 0.2639 - accuracy: 0.9010 - val_loss: 0.3527 - val_accuracy: 0.8782\n",
      "Epoch 8/50\n",
      "60000/60000 [==============================] - 8s 140us/sample - loss: 0.2531 - accuracy: 0.9047 - val_loss: 0.3777 - val_accuracy: 0.8740\n",
      "Epoch 9/50\n",
      "60000/60000 [==============================] - 8s 141us/sample - loss: 0.2434 - accuracy: 0.9095 - val_loss: 0.3523 - val_accuracy: 0.8798\n",
      "Epoch 10/50\n",
      "60000/60000 [==============================] - 9s 150us/sample - loss: 0.2365 - accuracy: 0.9101 - val_loss: 0.3504 - val_accuracy: 0.8804\n",
      "Epoch 11/50\n",
      "60000/60000 [==============================] - 10s 160us/sample - loss: 0.2285 - accuracy: 0.9139 - val_loss: 0.3554 - val_accuracy: 0.8812\n",
      "Epoch 12/50\n",
      "60000/60000 [==============================] - 10s 163us/sample - loss: 0.2225 - accuracy: 0.9159 - val_loss: 0.3729 - val_accuracy: 0.8838\n",
      "Epoch 13/50\n",
      "60000/60000 [==============================] - 10s 166us/sample - loss: 0.2154 - accuracy: 0.9186 - val_loss: 0.3819 - val_accuracy: 0.8795\n",
      "Epoch 14/50\n",
      "60000/60000 [==============================] - 9s 148us/sample - loss: 0.2103 - accuracy: 0.9201 - val_loss: 0.3632 - val_accuracy: 0.8872\n",
      "Epoch 15/50\n",
      "60000/60000 [==============================] - 9s 148us/sample - loss: 0.2052 - accuracy: 0.9226 - val_loss: 0.4406 - val_accuracy: 0.8787\n",
      "Epoch 16/50\n",
      "60000/60000 [==============================] - 9s 157us/sample - loss: 0.1993 - accuracy: 0.9246 - val_loss: 0.3708 - val_accuracy: 0.8889\n",
      "Epoch 17/50\n",
      "60000/60000 [==============================] - 10s 166us/sample - loss: 0.1954 - accuracy: 0.9271 - val_loss: 0.4032 - val_accuracy: 0.8803\n",
      "Epoch 18/50\n",
      "60000/60000 [==============================] - 10s 173us/sample - loss: 0.1912 - accuracy: 0.9277 - val_loss: 0.3915 - val_accuracy: 0.8850\n",
      "Epoch 19/50\n",
      "60000/60000 [==============================] - 10s 165us/sample - loss: 0.1860 - accuracy: 0.9302 - val_loss: 0.4118 - val_accuracy: 0.8823\n",
      "Epoch 20/50\n",
      "60000/60000 [==============================] - 9s 156us/sample - loss: 0.1835 - accuracy: 0.9301 - val_loss: 0.4142 - val_accuracy: 0.8924\n",
      "Epoch 21/50\n",
      "60000/60000 [==============================] - 11s 175us/sample - loss: 0.1788 - accuracy: 0.9324 - val_loss: 0.4328 - val_accuracy: 0.8794\n",
      "Epoch 22/50\n",
      "60000/60000 [==============================] - 10s 163us/sample - loss: 0.1754 - accuracy: 0.9339 - val_loss: 0.4310 - val_accuracy: 0.8857\n",
      "Epoch 23/50\n",
      "60000/60000 [==============================] - 9s 154us/sample - loss: 0.1719 - accuracy: 0.9358 - val_loss: 0.4395 - val_accuracy: 0.8852\n",
      "Epoch 24/50\n",
      "60000/60000 [==============================] - 9s 148us/sample - loss: 0.1680 - accuracy: 0.9361 - val_loss: 0.4684 - val_accuracy: 0.8794\n",
      "Epoch 25/50\n",
      "60000/60000 [==============================] - 8s 133us/sample - loss: 0.1633 - accuracy: 0.9383 - val_loss: 0.4672 - val_accuracy: 0.8806\n",
      "Epoch 26/50\n",
      "60000/60000 [==============================] - 8s 126us/sample - loss: 0.1619 - accuracy: 0.9391 - val_loss: 0.4497 - val_accuracy: 0.8799\n",
      "Epoch 27/50\n",
      "60000/60000 [==============================] - 9s 142us/sample - loss: 0.1589 - accuracy: 0.9401 - val_loss: 0.4414 - val_accuracy: 0.8880\n",
      "Epoch 28/50\n",
      "60000/60000 [==============================] - 8s 142us/sample - loss: 0.1575 - accuracy: 0.9410 - val_loss: 0.4715 - val_accuracy: 0.8849\n",
      "Epoch 29/50\n",
      "60000/60000 [==============================] - 9s 147us/sample - loss: 0.1515 - accuracy: 0.9428 - val_loss: 0.4716 - val_accuracy: 0.8909\n",
      "Epoch 30/50\n",
      "60000/60000 [==============================] - 9s 156us/sample - loss: 0.1524 - accuracy: 0.9431 - val_loss: 0.4897 - val_accuracy: 0.8820\n",
      "Epoch 31/50\n",
      "60000/60000 [==============================] - 8s 129us/sample - loss: 0.1474 - accuracy: 0.9446 - val_loss: 0.5260 - val_accuracy: 0.8760\n",
      "Epoch 32/50\n",
      "60000/60000 [==============================] - 8s 127us/sample - loss: 0.1452 - accuracy: 0.9450 - val_loss: 0.4949 - val_accuracy: 0.8904\n",
      "Epoch 33/50\n",
      "60000/60000 [==============================] - 8s 129us/sample - loss: 0.1430 - accuracy: 0.9468 - val_loss: 0.5113 - val_accuracy: 0.8835\n",
      "Epoch 34/50\n",
      "60000/60000 [==============================] - 8s 128us/sample - loss: 0.1410 - accuracy: 0.9472 - val_loss: 0.5044 - val_accuracy: 0.8854\n",
      "Epoch 35/50\n",
      "60000/60000 [==============================] - 8s 129us/sample - loss: 0.1378 - accuracy: 0.9489 - val_loss: 0.4997 - val_accuracy: 0.8894\n",
      "Epoch 36/50\n",
      "60000/60000 [==============================] - 8s 129us/sample - loss: 0.1371 - accuracy: 0.9476 - val_loss: 0.5495 - val_accuracy: 0.8873\n",
      "Epoch 37/50\n",
      "60000/60000 [==============================] - 8s 135us/sample - loss: 0.1339 - accuracy: 0.9499 - val_loss: 0.5072 - val_accuracy: 0.8883\n",
      "Epoch 38/50\n",
      "60000/60000 [==============================] - 8s 140us/sample - loss: 0.1307 - accuracy: 0.9510 - val_loss: 0.5482 - val_accuracy: 0.8877\n",
      "Epoch 39/50\n",
      "60000/60000 [==============================] - 8s 131us/sample - loss: 0.1290 - accuracy: 0.9510 - val_loss: 0.5561 - val_accuracy: 0.8813\n",
      "Epoch 40/50\n",
      "60000/60000 [==============================] - 8s 129us/sample - loss: 0.1282 - accuracy: 0.9516 - val_loss: 0.5934 - val_accuracy: 0.8818\n",
      "Epoch 41/50\n",
      "60000/60000 [==============================] - 8s 127us/sample - loss: 0.1267 - accuracy: 0.9532 - val_loss: 0.5971 - val_accuracy: 0.8859\n",
      "Epoch 42/50\n",
      "60000/60000 [==============================] - 8s 130us/sample - loss: 0.1247 - accuracy: 0.9533 - val_loss: 0.6238 - val_accuracy: 0.8808\n",
      "Epoch 43/50\n",
      "60000/60000 [==============================] - 8s 129us/sample - loss: 0.1232 - accuracy: 0.9536 - val_loss: 0.5562 - val_accuracy: 0.8861\n",
      "Epoch 44/50\n",
      "60000/60000 [==============================] - 8s 128us/sample - loss: 0.1189 - accuracy: 0.9562 - val_loss: 0.5724 - val_accuracy: 0.8854\n",
      "Epoch 45/50\n",
      "60000/60000 [==============================] - 8s 130us/sample - loss: 0.1211 - accuracy: 0.9553 - val_loss: 0.6093 - val_accuracy: 0.8831\n",
      "Epoch 46/50\n",
      "60000/60000 [==============================] - 8s 129us/sample - loss: 0.1163 - accuracy: 0.9571 - val_loss: 0.6149 - val_accuracy: 0.8836\n",
      "Epoch 47/50\n",
      "60000/60000 [==============================] - 8s 128us/sample - loss: 0.1170 - accuracy: 0.9565 - val_loss: 0.6328 - val_accuracy: 0.8851\n",
      "Epoch 48/50\n",
      "60000/60000 [==============================] - 8s 130us/sample - loss: 0.1125 - accuracy: 0.9573 - val_loss: 0.6042 - val_accuracy: 0.8904\n",
      "Epoch 49/50\n",
      "60000/60000 [==============================] - 8s 129us/sample - loss: 0.1137 - accuracy: 0.9582 - val_loss: 0.6644 - val_accuracy: 0.8860\n",
      "Epoch 50/50\n",
      "60000/60000 [==============================] - 8s 130us/sample - loss: 0.1149 - accuracy: 0.9579 - val_loss: 0.6056 - val_accuracy: 0.8903\n"
     ]
    }
   ],
   "source": [
    "fashion_model = fashion_model.fit(x_train, y_train,\n",
    "          batch_size=10,\n",
    "          epochs=50,\n",
    "          verbose=1,\n",
    "          validation_data=(x_test, y_test))\n"
   ]
  },
  {
   "cell_type": "markdown",
   "metadata": {
    "colab_type": "text",
    "id": "wCpr6DGyE28h"
   },
   "source": [
    "### Evaluate accuracy\n",
    "\n",
    "Next, compare how the model performs on the test dataset:"
   ]
  },
  {
   "cell_type": "code",
   "execution_count": 17,
   "metadata": {},
   "outputs": [
    {
     "data": {
      "text/plain": [
       "{'loss': [0.47679444474040067,\n",
       "  0.36410108210590747,\n",
       "  0.32799065023398727,\n",
       "  0.3056385327440997,\n",
       "  0.28855843354787064,\n",
       "  0.2753580907764017,\n",
       "  0.2639151226724959,\n",
       "  0.2531239317424042,\n",
       "  0.2433863418705805,\n",
       "  0.23653681418262326,\n",
       "  0.22847250746306721,\n",
       "  0.22246890289394106,\n",
       "  0.21542628190832813,\n",
       "  0.21030850506283533,\n",
       "  0.20516543447573668,\n",
       "  0.1993468752997551,\n",
       "  0.19540881394255363,\n",
       "  0.19116263189806973,\n",
       "  0.18601891033807752,\n",
       "  0.18350515566799397,\n",
       "  0.17880290566500334,\n",
       "  0.17535900910915087,\n",
       "  0.17189707416599076,\n",
       "  0.16804774309849405,\n",
       "  0.16328546819129267,\n",
       "  0.1619038892395482,\n",
       "  0.15887451212006448,\n",
       "  0.15749348763139262,\n",
       "  0.15145183612666005,\n",
       "  0.15237183274402188,\n",
       "  0.1473557373551016,\n",
       "  0.14515728053684634,\n",
       "  0.14302227388309594,\n",
       "  0.14097508813813925,\n",
       "  0.13777796074086776,\n",
       "  0.13706570368876067,\n",
       "  0.13394525235503063,\n",
       "  0.13066625888624633,\n",
       "  0.1290386533490503,\n",
       "  0.12815406144981203,\n",
       "  0.12669129577356453,\n",
       "  0.12469658407427366,\n",
       "  0.12316485937253976,\n",
       "  0.1189007984634971,\n",
       "  0.12107424437141312,\n",
       "  0.1162990552984999,\n",
       "  0.11700406442351893,\n",
       "  0.11250308591787525,\n",
       "  0.11372293250240866,\n",
       "  0.1149107511574289],\n",
       " 'accuracy': [0.82881665,\n",
       "  0.86796665,\n",
       "  0.8796667,\n",
       "  0.8872667,\n",
       "  0.8922,\n",
       "  0.8979167,\n",
       "  0.90103334,\n",
       "  0.9047,\n",
       "  0.9095167,\n",
       "  0.9101167,\n",
       "  0.9138833,\n",
       "  0.9159,\n",
       "  0.91861665,\n",
       "  0.92013335,\n",
       "  0.92255,\n",
       "  0.9245833,\n",
       "  0.9271167,\n",
       "  0.92775,\n",
       "  0.93025,\n",
       "  0.93013334,\n",
       "  0.9324333,\n",
       "  0.9339333,\n",
       "  0.9358,\n",
       "  0.9361333,\n",
       "  0.93831664,\n",
       "  0.93913335,\n",
       "  0.94011664,\n",
       "  0.941,\n",
       "  0.94278336,\n",
       "  0.94306666,\n",
       "  0.94465,\n",
       "  0.9450167,\n",
       "  0.9468,\n",
       "  0.9471667,\n",
       "  0.94888335,\n",
       "  0.9476,\n",
       "  0.94985,\n",
       "  0.95096666,\n",
       "  0.951,\n",
       "  0.9515667,\n",
       "  0.9532167,\n",
       "  0.9533167,\n",
       "  0.9535667,\n",
       "  0.9562,\n",
       "  0.95531666,\n",
       "  0.95705,\n",
       "  0.9565,\n",
       "  0.95731664,\n",
       "  0.95825,\n",
       "  0.95786667],\n",
       " 'val_loss': [0.4368377256151289,\n",
       "  0.3934978615925647,\n",
       "  0.3853368898043409,\n",
       "  0.3724228436336853,\n",
       "  0.3865855264309794,\n",
       "  0.3792233917180565,\n",
       "  0.3527484631205443,\n",
       "  0.377668760286062,\n",
       "  0.35227863485392297,\n",
       "  0.35037734329054365,\n",
       "  0.35540152729459806,\n",
       "  0.37285204125609744,\n",
       "  0.3819367086282582,\n",
       "  0.3631807558871806,\n",
       "  0.4406314972643959,\n",
       "  0.370773136437987,\n",
       "  0.40316966236907503,\n",
       "  0.3914718276736494,\n",
       "  0.41184173923942397,\n",
       "  0.4142391141566259,\n",
       "  0.4328454267723428,\n",
       "  0.4310116753921648,\n",
       "  0.43950031382632243,\n",
       "  0.46843620798351004,\n",
       "  0.46716947523900854,\n",
       "  0.4497469961657622,\n",
       "  0.44136637784674004,\n",
       "  0.4715293380525845,\n",
       "  0.4715539386718775,\n",
       "  0.48971716945492083,\n",
       "  0.5260000792552327,\n",
       "  0.4949351882766543,\n",
       "  0.5112548680811747,\n",
       "  0.5043974324111862,\n",
       "  0.4996833278250824,\n",
       "  0.5494992832167387,\n",
       "  0.5071839791085393,\n",
       "  0.5482446109103579,\n",
       "  0.5561380959212181,\n",
       "  0.5934245407342098,\n",
       "  0.5971100693582543,\n",
       "  0.6238146284940926,\n",
       "  0.5561536779402936,\n",
       "  0.5723614143537051,\n",
       "  0.6093040220215395,\n",
       "  0.6149342244715678,\n",
       "  0.6328403966165784,\n",
       "  0.6041897142377027,\n",
       "  0.6644466066255276,\n",
       "  0.6055541529315933],\n",
       " 'val_accuracy': [0.844,\n",
       "  0.8601,\n",
       "  0.8571,\n",
       "  0.8687,\n",
       "  0.8672,\n",
       "  0.8738,\n",
       "  0.8782,\n",
       "  0.874,\n",
       "  0.8798,\n",
       "  0.8804,\n",
       "  0.8812,\n",
       "  0.8838,\n",
       "  0.8795,\n",
       "  0.8872,\n",
       "  0.8787,\n",
       "  0.8889,\n",
       "  0.8803,\n",
       "  0.885,\n",
       "  0.8823,\n",
       "  0.8924,\n",
       "  0.8794,\n",
       "  0.8857,\n",
       "  0.8852,\n",
       "  0.8794,\n",
       "  0.8806,\n",
       "  0.8799,\n",
       "  0.888,\n",
       "  0.8849,\n",
       "  0.8909,\n",
       "  0.882,\n",
       "  0.876,\n",
       "  0.8904,\n",
       "  0.8835,\n",
       "  0.8854,\n",
       "  0.8894,\n",
       "  0.8873,\n",
       "  0.8883,\n",
       "  0.8877,\n",
       "  0.8813,\n",
       "  0.8818,\n",
       "  0.8859,\n",
       "  0.8808,\n",
       "  0.8861,\n",
       "  0.8854,\n",
       "  0.8831,\n",
       "  0.8836,\n",
       "  0.8851,\n",
       "  0.8904,\n",
       "  0.886,\n",
       "  0.8903]}"
      ]
     },
     "execution_count": 17,
     "metadata": {},
     "output_type": "execute_result"
    }
   ],
   "source": [
    "fashion_model.history"
   ]
  },
  {
   "cell_type": "code",
   "execution_count": 18,
   "metadata": {},
   "outputs": [
    {
     "data": {
      "text/plain": [
       "Text(0, 0.5, 'acc')"
      ]
     },
     "execution_count": 18,
     "metadata": {},
     "output_type": "execute_result"
    },
    {
     "data": {
      "image/png": "[encoded data removed]",
      "text/plain": [
       "<Figure size 432x288 with 1 Axes>"
      ]
     },
     "metadata": {
      "needs_background": "light"
     },
     "output_type": "display_data"
    }
   ],
   "source": [
    "import matplotlib.pyplot as plt\n",
    "f, ax = plt.subplots()\n",
    "ax.plot([None] + fashion_model.history['accuracy'], 'o-')\n",
    "ax.plot([None] + fashion_model.history['val_accuracy'], 'x-')\n",
    "ax.legend(['Train acc', 'Validation acc'], loc = 0)\n",
    "ax.set_title('Training/Validation acc per Epoch')\n",
    "ax.set_xlabel('Epoch')\n",
    "ax.set_ylabel('acc')"
   ]
  },
  {
   "cell_type": "code",
   "execution_count": 19,
   "metadata": {},
   "outputs": [
    {
     "data": {
      "text/plain": [
       "Text(0, 0.5, 'acc')"
      ]
     },
     "execution_count": 19,
     "metadata": {},
     "output_type": "execute_result"
    },
    {
     "data": {
      "image/png": "[encoded data removed]",
      "text/plain": [
       "<Figure size 432x288 with 1 Axes>"
      ]
     },
     "metadata": {
      "needs_background": "light"
     },
     "output_type": "display_data"
    }
   ],
   "source": [
    "import matplotlib.pyplot as plt\n",
    "f, ax = plt.subplots()\n",
    "ax.plot([None] + fashion_model.history['loss'], 'o-')\n",
    "ax.plot([None] + fashion_model.history['val_loss'], 'x-')\n",
    "ax.legend(['Train loss', 'Validation loss'], loc = 0)\n",
    "ax.set_title('Training/Validation loss per Epoch')\n",
    "ax.set_xlabel('Epoch')\n",
    "ax.set_ylabel('acc')"
   ]
  },
  {
   "cell_type": "code",
   "execution_count": 20,
   "metadata": {
    "colab": {},
    "colab_type": "code",
    "id": "VflXLEeECaXC"
   },
   "outputs": [
    {
     "name": "stdout",
     "output_type": "stream",
     "text": [
      "10000/10000 - 0s - loss: 0.6056 - accuracy: 0.8903\n",
      "Test accuracy: 0.8903\n"
     ]
    }
   ],
   "source": [
    "test_loss, test_acc = fashion_model.model.evaluate(x_test,  y_test, verbose=2)\n",
    "\n",
    "print('Test accuracy:', test_acc)"
   ]
  }
 ],
 "metadata": {
  "colab": {
   "collapsed_sections": [],
   "name": "classification.ipynb",
   "private_outputs": true,
   "provenance": [],
   "toc_visible": true
  },
  "kernelspec": {
   "display_name": "Python 3",
   "language": "python",
   "name": "python3"
  },
  "language_info": {
   "codemirror_mode": {
    "name": "ipython",
    "version": 3
   },
   "file_extension": ".py",
   "mimetype": "text/x-python",
   "name": "python",
   "nbconvert_exporter": "python",
   "pygments_lexer": "ipython3",
   "version": "3.7.4"
  }
 },
 "nbformat": 4,
 "nbformat_minor": 1
}
