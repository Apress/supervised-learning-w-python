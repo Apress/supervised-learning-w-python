{
 "cells": [
  {
   "cell_type": "markdown",
   "metadata": {
    "colab_type": "text",
    "id": "uUpQff5qfTNc"
   },
   "source": [
    "## Complaint Categorization using Word Embeddings"
   ]
  },
  {
   "cell_type": "code",
   "execution_count": 1,
   "metadata": {
    "colab": {},
    "colab_type": "code",
    "id": "zhXsYJwq7-Rs"
   },
   "outputs": [],
   "source": [
    "from nltk.tokenize import RegexpTokenizer\n",
    "import numpy as np\n",
    "import re"
   ]
  },
  {
   "cell_type": "code",
   "execution_count": 2,
   "metadata": {
    "colab": {
     "base_uri": "https://localhost:8080/",
     "height": 204
    },
    "colab_type": "code",
    "executionInfo": {
     "elapsed": 7321,
     "status": "ok",
     "timestamp": 1566387081318,
     "user": {
      "displayName": "dikshant gupta",
      "photoUrl": "https://lh3.googleusercontent.com/a-/AAuE7mBY-VAEDCe_t9LzKk0g7MBc8rY1qZ-QR-XiCIyRYw=s64",
      "userId": "01845807612441668603"
     },
     "user_tz": -330
    },
    "id": "s_Bu4lfx7-Rz",
    "outputId": "97bd61bd-4a05-4365-f935-4127bf06790f"
   },
   "outputs": [],
   "source": [
    "import pandas as pd\n",
    "complaints_dataframe = pd.read_csv('complaints.csv') \n"
   ]
  },
  {
   "cell_type": "code",
   "execution_count": 4,
   "metadata": {},
   "outputs": [
    {
     "data": {
      "text/html": [
       "<div>\n",
       "<style scoped>\n",
       "    .dataframe tbody tr th:only-of-type {\n",
       "        vertical-align: middle;\n",
       "    }\n",
       "\n",
       "    .dataframe tbody tr th {\n",
       "        vertical-align: top;\n",
       "    }\n",
       "\n",
       "    .dataframe thead th {\n",
       "        text-align: right;\n",
       "    }\n",
       "</style>\n",
       "<table border=\"1\" class=\"dataframe\">\n",
       "  <thead>\n",
       "    <tr style=\"text-align: right;\">\n",
       "      <th></th>\n",
       "      <th>Consumer complaint narrative</th>\n",
       "      <th>Product</th>\n",
       "    </tr>\n",
       "  </thead>\n",
       "  <tbody>\n",
       "    <tr>\n",
       "      <td>0</td>\n",
       "      <td>I have outdated information on my credit repor...</td>\n",
       "      <td>Credit reporting</td>\n",
       "    </tr>\n",
       "    <tr>\n",
       "      <td>1</td>\n",
       "      <td>I purchased a new car on XXXX XXXX. The car de...</td>\n",
       "      <td>Consumer Loan</td>\n",
       "    </tr>\n",
       "    <tr>\n",
       "      <td>2</td>\n",
       "      <td>An account on my credit report has a mistaken ...</td>\n",
       "      <td>Credit reporting</td>\n",
       "    </tr>\n",
       "    <tr>\n",
       "      <td>3</td>\n",
       "      <td>This company refuses to provide me verificatio...</td>\n",
       "      <td>Debt collection</td>\n",
       "    </tr>\n",
       "    <tr>\n",
       "      <td>4</td>\n",
       "      <td>This complaint is in regards to Square Two Fin...</td>\n",
       "      <td>Debt collection</td>\n",
       "    </tr>\n",
       "  </tbody>\n",
       "</table>\n",
       "</div>"
      ],
      "text/plain": [
       "                        Consumer complaint narrative           Product\n",
       "0  I have outdated information on my credit repor...  Credit reporting\n",
       "1  I purchased a new car on XXXX XXXX. The car de...     Consumer Loan\n",
       "2  An account on my credit report has a mistaken ...  Credit reporting\n",
       "3  This company refuses to provide me verificatio...   Debt collection\n",
       "4  This complaint is in regards to Square Two Fin...   Debt collection"
      ]
     },
     "execution_count": 4,
     "metadata": {},
     "output_type": "execute_result"
    }
   ],
   "source": [
    "complaints_dataframe.head()"
   ]
  },
  {
   "cell_type": "code",
   "execution_count": 5,
   "metadata": {
    "colab": {},
    "colab_type": "code",
    "id": "v6H1UTDM7-R8"
   },
   "outputs": [],
   "source": [
    "def convert_complaint_to_words(comp):\n",
    "    \n",
    "    converted_words = RegexpTokenizer('\\w+').tokenize(comp)\n",
    "    converted_words = [re.sub(r'([xx]+)|([XX]+)|(\\d+)', '', w).lower() for w in converted_words]\n",
    "    converted_words = list(filter(lambda a: a != '', converted_words))\n",
    "    \n",
    "    return converted_words"
   ]
  },
  {
   "cell_type": "code",
   "execution_count": 6,
   "metadata": {
    "colab": {},
    "colab_type": "code",
    "id": "0RgXmo-N7-SC"
   },
   "outputs": [],
   "source": [
    "all_words = list()\n",
    "for comp in complaints_dataframe['Consumer complaint narrative']:\n",
    "    for w in convert_complaint_to_words(comp):\n",
    "        all_words.append(w)"
   ]
  },
  {
   "cell_type": "code",
   "execution_count": 7,
   "metadata": {
    "colab": {
     "base_uri": "https://localhost:8080/",
     "height": 34
    },
    "colab_type": "code",
    "executionInfo": {
     "elapsed": 80284,
     "status": "ok",
     "timestamp": 1566387158514,
     "user": {
      "displayName": "dikshant gupta",
      "photoUrl": "https://lh3.googleusercontent.com/a-/AAuE7mBY-VAEDCe_t9LzKk0g7MBc8rY1qZ-QR-XiCIyRYw=s64",
      "userId": "01845807612441668603"
     },
     "user_tz": -330
    },
    "id": "8T_RNzwy7-SF",
    "outputId": "cd6c76a2-42d6-43aa-877f-f399f9799130"
   },
   "outputs": [
    {
     "name": "stdout",
     "output_type": "stream",
     "text": [
      "Size of vocabulary: 76908\n"
     ]
    }
   ],
   "source": [
    "print('Size of vocabulary is {}'.format(len(set(all_words))))"
   ]
  },
  {
   "cell_type": "code",
   "execution_count": 9,
   "metadata": {
    "colab": {
     "base_uri": "https://localhost:8080/",
     "height": 190
    },
    "colab_type": "code",
    "executionInfo": {
     "elapsed": 79440,
     "status": "ok",
     "timestamp": 1566387158515,
     "user": {
      "displayName": "dikshant gupta",
      "photoUrl": "https://lh3.googleusercontent.com/a-/AAuE7mBY-VAEDCe_t9LzKk0g7MBc8rY1qZ-QR-XiCIyRYw=s64",
      "userId": "01845807612441668603"
     },
     "user_tz": -330
    },
    "id": "Dbh2Y10y7-SL",
    "outputId": "da08bf30-04f9-4ec1-c798-0f22a4c44cb9"
   },
   "outputs": [
    {
     "name": "stdout",
     "output_type": "stream",
     "text": [
      "Complaint is \n",
      " Without provocation, I received notice that my credit line was being decreased by nearly 100 %. My available credit was reduced from $ XXXX to XXXX ( the rough amount of my available balance ). \n",
      "\n",
      "When I called to question the change, I was provided a nob-descript response referencing my XXXX report. It was my understanding that under the FCRA I was entitled to a copy of this report, but was refused by Citi and have been given no further explanation. \n",
      "\n",
      "This is predatory in that it affects my utilization of credit, further subjecting me to increase in APrs, etc and a higher cost of credit without any reason. \n",
      "\n",
      "Tokens are\n",
      " ['without', 'provocation', 'i', 'received', 'notice', 'that', 'my', 'credit', 'line', 'was', 'being', 'decreased', 'by', 'nearly', 'my', 'available', 'credit', 'was', 'reduced', 'from', 'to', 'the', 'rough', 'amount', 'of', 'my', 'available', 'balance', 'when', 'i', 'called', 'to', 'question', 'the', 'change', 'i', 'was', 'provided', 'a', 'nob', 'descript', 'response', 'referencing', 'my', 'report', 'it', 'was', 'my', 'understanding', 'that', 'under', 'the', 'fcra', 'i', 'was', 'entitled', 'to', 'a', 'copy', 'of', 'this', 'report', 'but', 'was', 'refused', 'by', 'citi', 'and', 'have', 'been', 'given', 'no', 'further', 'eplanation', 'this', 'is', 'predatory', 'in', 'that', 'it', 'affects', 'my', 'utilization', 'of', 'credit', 'further', 'subjecting', 'me', 'to', 'increase', 'in', 'aprs', 'etc', 'and', 'a', 'higher', 'cost', 'of', 'credit', 'without', 'any', 'reason']\n"
     ]
    }
   ],
   "source": [
    "print('Complaint is \\n', complaints_dataframe['Consumer complaint narrative'][10], '\\n')\n",
    "print('Tokens are\\n', convert_complaint_to_words(complaints_dataframe['Consumer complaint narrative'][10]))"
   ]
  },
  {
   "cell_type": "markdown",
   "metadata": {
    "colab_type": "text",
    "id": "YHi4vCGX7-SU"
   },
   "source": [
    "### Indexing\n"
   ]
  },
  {
   "cell_type": "code",
   "execution_count": 10,
   "metadata": {
    "colab": {},
    "colab_type": "code",
    "id": "-ClRX_y07-SW"
   },
   "outputs": [],
   "source": [
    "index_dictionary = dict()\n",
    "count = 1\n",
    "index_dictionary['<unk>'] = 0\n",
    "for word in set(all_words):\n",
    "    index_dictionary[word] = count\n",
    "    count += 1"
   ]
  },
  {
   "cell_type": "markdown",
   "metadata": {
    "colab_type": "text",
    "id": "vv8dIbF47-Sa"
   },
   "source": [
    "### Dataset"
   ]
  },
  {
   "cell_type": "code",
   "execution_count": 11,
   "metadata": {
    "colab": {},
    "colab_type": "code",
    "id": "u1OJzln_7-Sb"
   },
   "outputs": [],
   "source": [
    "embeddings_index = {}\n",
    "f = open('glove.6B.300d.txt')\n",
    "for line in f:\n",
    "    values = line.split()\n",
    "    word = values[0]\n",
    "    coefs = np.asarray(values[1:], dtype='float32')\n",
    "    embeddings_index[word] = coefs\n",
    "f.close()"
   ]
  },
  {
   "cell_type": "markdown",
   "metadata": {
    "colab_type": "text",
    "id": "s--9I9d5msCp"
   },
   "source": [
    "#### Taking average of all word embeddings in a sentence to generate the sentence representation."
   ]
  },
  {
   "cell_type": "code",
   "execution_count": 13,
   "metadata": {
    "colab": {},
    "colab_type": "code",
    "id": "aN13GyDe7-Sd"
   },
   "outputs": [],
   "source": [
    "complaints_list = list()\n",
    "for comp in complaints_dataframe['Consumer complaint narrative']:\n",
    "    sentence = np.zeros(300)\n",
    "    count = 0\n",
    "    for w in convert_complaint_to_words(comp):\n",
    "        try:\n",
    "            sentence += embeddings_index[w]\n",
    "            count += 1\n",
    "        except KeyError:\n",
    "            continue\n",
    "    complaints_list.append(sentence / count)"
   ]
  },
  {
   "cell_type": "markdown",
   "metadata": {
    "colab_type": "text",
    "id": "OYZ703hVm5Cg"
   },
   "source": [
    "#### Converting categrical labels to numerical format and further one hot encoding on the numerical labels."
   ]
  },
  {
   "cell_type": "code",
   "execution_count": 14,
   "metadata": {
    "colab": {
     "base_uri": "https://localhost:8080/",
     "height": 204
    },
    "colab_type": "code",
    "executionInfo": {
     "elapsed": 1796,
     "status": "ok",
     "timestamp": 1566387500223,
     "user": {
      "displayName": "dikshant gupta",
      "photoUrl": "https://lh3.googleusercontent.com/a-/AAuE7mBY-VAEDCe_t9LzKk0g7MBc8rY1qZ-QR-XiCIyRYw=s64",
      "userId": "01845807612441668603"
     },
     "user_tz": -330
    },
    "id": "EoR79rtZ7-Sr",
    "outputId": "704c6e1e-dc8e-4d42-851d-0e3724e60fd6"
   },
   "outputs": [
    {
     "data": {
      "text/html": [
       "<div>\n",
       "<style scoped>\n",
       "    .dataframe tbody tr th:only-of-type {\n",
       "        vertical-align: middle;\n",
       "    }\n",
       "\n",
       "    .dataframe tbody tr th {\n",
       "        vertical-align: top;\n",
       "    }\n",
       "\n",
       "    .dataframe thead th {\n",
       "        text-align: right;\n",
       "    }\n",
       "</style>\n",
       "<table border=\"1\" class=\"dataframe\">\n",
       "  <thead>\n",
       "    <tr style=\"text-align: right;\">\n",
       "      <th></th>\n",
       "      <th>Consumer complaint narrative</th>\n",
       "      <th>Product</th>\n",
       "      <th>Target</th>\n",
       "    </tr>\n",
       "  </thead>\n",
       "  <tbody>\n",
       "    <tr>\n",
       "      <td>0</td>\n",
       "      <td>I have outdated information on my credit repor...</td>\n",
       "      <td>Credit reporting</td>\n",
       "      <td>5</td>\n",
       "    </tr>\n",
       "    <tr>\n",
       "      <td>1</td>\n",
       "      <td>I purchased a new car on XXXX XXXX. The car de...</td>\n",
       "      <td>Consumer Loan</td>\n",
       "      <td>2</td>\n",
       "    </tr>\n",
       "    <tr>\n",
       "      <td>2</td>\n",
       "      <td>An account on my credit report has a mistaken ...</td>\n",
       "      <td>Credit reporting</td>\n",
       "      <td>5</td>\n",
       "    </tr>\n",
       "    <tr>\n",
       "      <td>3</td>\n",
       "      <td>This company refuses to provide me verificatio...</td>\n",
       "      <td>Debt collection</td>\n",
       "      <td>7</td>\n",
       "    </tr>\n",
       "    <tr>\n",
       "      <td>4</td>\n",
       "      <td>This complaint is in regards to Square Two Fin...</td>\n",
       "      <td>Debt collection</td>\n",
       "      <td>7</td>\n",
       "    </tr>\n",
       "  </tbody>\n",
       "</table>\n",
       "</div>"
      ],
      "text/plain": [
       "                        Consumer complaint narrative           Product  Target\n",
       "0  I have outdated information on my credit repor...  Credit reporting       5\n",
       "1  I purchased a new car on XXXX XXXX. The car de...     Consumer Loan       2\n",
       "2  An account on my credit report has a mistaken ...  Credit reporting       5\n",
       "3  This company refuses to provide me verificatio...   Debt collection       7\n",
       "4  This complaint is in regards to Square Two Fin...   Debt collection       7"
      ]
     },
     "execution_count": 14,
     "metadata": {},
     "output_type": "execute_result"
    }
   ],
   "source": [
    "from sklearn import preprocessing\n",
    "le = preprocessing.LabelEncoder()\n",
    "le.fit(complaints_dataframe['Product'])\n",
    "complaints_dataframe['Target'] = le.transform(complaints_dataframe['Product'])\n",
    "complaints_dataframe.head()"
   ]
  },
  {
   "cell_type": "markdown",
   "metadata": {
    "colab_type": "text",
    "id": "atXHKYN27-S0"
   },
   "source": [
    "### One hot Encoding"
   ]
  },
  {
   "cell_type": "code",
   "execution_count": 15,
   "metadata": {
    "colab": {},
    "colab_type": "code",
    "id": "_RwGbO_L7-S4"
   },
   "outputs": [],
   "source": [
    "from sklearn.model_selection import train_test_split\n",
    "X_train, X_test, y_train, y_test = train_test_split(np.array(complaints_list), complaints_dataframe.Target.values, \n",
    "    test_size=0.15, random_state=0)"
   ]
  },
  {
   "cell_type": "code",
   "execution_count": 16,
   "metadata": {
    "colab": {
     "base_uri": "https://localhost:8080/",
     "height": 34
    },
    "colab_type": "code",
    "executionInfo": {
     "elapsed": 1623,
     "status": "ok",
     "timestamp": 1566387605397,
     "user": {
      "displayName": "dikshant gupta",
      "photoUrl": "https://lh3.googleusercontent.com/a-/AAuE7mBY-VAEDCe_t9LzKk0g7MBc8rY1qZ-QR-XiCIyRYw=s64",
      "userId": "01845807612441668603"
     },
     "user_tz": -330
    },
    "id": "K7XHJpLc7-S7",
    "outputId": "2e39d372-d636-467b-cadc-4da71065e2a6"
   },
   "outputs": [
    {
     "name": "stdout",
     "output_type": "stream",
     "text": [
      "(152809, 300)\n"
     ]
    }
   ],
   "source": [
    "print(X_train.shape)"
   ]
  },
  {
   "cell_type": "code",
   "execution_count": 18,
   "metadata": {
    "colab": {
     "base_uri": "https://localhost:8080/",
     "height": 34
    },
    "colab_type": "code",
    "executionInfo": {
     "elapsed": 1388,
     "status": "ok",
     "timestamp": 1566387619059,
     "user": {
      "displayName": "dikshant gupta",
      "photoUrl": "https://lh3.googleusercontent.com/a-/AAuE7mBY-VAEDCe_t9LzKk0g7MBc8rY1qZ-QR-XiCIyRYw=s64",
      "userId": "01845807612441668603"
     },
     "user_tz": -330
    },
    "id": "ob2Az_Oq-h0x",
    "outputId": "60606497-6f8c-4205-97bb-2deb2c55dbdd"
   },
   "outputs": [
    {
     "name": "stdout",
     "output_type": "stream",
     "text": [
      "(152809,)\n"
     ]
    }
   ],
   "source": [
    "print(y_train.shape)"
   ]
  },
  {
   "cell_type": "markdown",
   "metadata": {
    "colab_type": "text",
    "id": "sw7pp-WinSI5"
   },
   "source": [
    "#### Training and testing the classifier"
   ]
  },
  {
   "cell_type": "code",
   "execution_count": 19,
   "metadata": {
    "colab": {
     "base_uri": "https://localhost:8080/",
     "height": 34
    },
    "colab_type": "code",
    "executionInfo": {
     "elapsed": 3057,
     "status": "ok",
     "timestamp": 1566387636476,
     "user": {
      "displayName": "dikshant gupta",
      "photoUrl": "https://lh3.googleusercontent.com/a-/AAuE7mBY-VAEDCe_t9LzKk0g7MBc8rY1qZ-QR-XiCIyRYw=s64",
      "userId": "01845807612441668603"
     },
     "user_tz": -330
    },
    "id": "--kThiN07-S_",
    "outputId": "cc3e1cc6-3c65-4836-b096-4271a7dda6b5"
   },
   "outputs": [
    {
     "name": "stdout",
     "output_type": "stream",
     "text": [
      "0.4839618793340008\n"
     ]
    }
   ],
   "source": [
    "from sklearn.naive_bayes import BernoulliNB\n",
    "from sklearn.metrics import accuracy_score\n",
    "clf = BernoulliNB()\n",
    "clf.fit(X_train, y_train)\n",
    "pred = clf.predict(X_test)\n",
    "print(accuracy_score(y_test, pred))"
   ]
  },
  {
   "cell_type": "code",
   "execution_count": 20,
   "metadata": {},
   "outputs": [],
   "source": [
    "from sklearn.tree import DecisionTreeClassifier"
   ]
  },
  {
   "cell_type": "code",
   "execution_count": 21,
   "metadata": {},
   "outputs": [
    {
     "data": {
      "text/plain": [
       "DecisionTreeClassifier()"
      ]
     },
     "execution_count": 21,
     "metadata": {},
     "output_type": "execute_result"
    }
   ],
   "source": [
    "dt_classifier = DecisionTreeClassifier()  \n",
    "dt_classifier.fit(X_train, y_train) "
   ]
  },
  {
   "cell_type": "code",
   "execution_count": null,
   "metadata": {},
   "outputs": [],
   "source": []
  },
  {
   "cell_type": "code",
   "execution_count": 22,
   "metadata": {},
   "outputs": [
    {
     "name": "stdout",
     "output_type": "stream",
     "text": [
      "0.4839618793340008\n"
     ]
    }
   ],
   "source": [
    "print(accuracy_score(y_test, pred))"
   ]
  }
 ],
 "metadata": {
  "anaconda-cloud": {},
  "colab": {
   "name": "case_study.ipynb",
   "provenance": [],
   "toc_visible": true
  },
  "kernelspec": {
   "display_name": "Python 3",
   "language": "python",
   "name": "python3"
  },
  "language_info": {
   "codemirror_mode": {
    "name": "ipython",
    "version": 3
   },
   "file_extension": ".py",
   "mimetype": "text/x-python",
   "name": "python",
   "nbconvert_exporter": "python",
   "pygments_lexer": "ipython3",
   "version": "3.7.4"
  }
 },
 "nbformat": 4,
 "nbformat_minor": 1
}
